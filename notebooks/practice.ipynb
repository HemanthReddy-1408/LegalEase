{
 "cells": [
  {
   "cell_type": "code",
   "execution_count": null,
   "id": "6043f198",
   "metadata": {},
   "outputs": [
    {
     "name": "stderr",
     "output_type": "stream",
     "text": [
      "Repo card metadata block was not found. Setting CardData to empty.\n",
      "Generating train split: 2267 examples [00:00, 151113.06 examples/s]\n",
      "Repo card metadata block was not found. Setting CardData to empty.\n",
      "Generating train split: 8194 examples [00:00, 234115.31 examples/s]\n",
      "Repo card metadata block was not found. Setting CardData to empty.\n",
      "Generating train split: 4082 examples [00:00, 204109.93 examples/s]\n"
     ]
    }
   ],
   "source": [
    "from datasets import load_dataset, concatenate_datasets\n",
    "\n",
    "ipc = load_dataset(\"Techmaestro369/indian-legal-texts-finetuning\", data_files=\"ipc_qa.json\", split=\"train\")\n",
    "crpc = load_dataset(\"Techmaestro369/indian-legal-texts-finetuning\", data_files=\"crpc_qa.json\", split=\"train\")\n",
    "const = load_dataset(\"Techmaestro369/indian-legal-texts-finetuning\", data_files=\"constitution_qa.json\", split=\"train\")\n",
    "\n",
    "full_dataset = concatenate_datasets([ipc, crpc, const])\n"
   ]
  },
  {
   "cell_type": "code",
   "execution_count": null,
   "id": "bd6dac10",
   "metadata": {},
   "outputs": [],
   "source": [
    "import json\n",
    "\n",
    "sft_data = []\n",
    "for item in full_dataset:\n",
    "    if item[\"question\"] and item[\"answer\"]:\n",
    "        sft_data.append({\n",
    "            \"instruction\": item[\"question\"].strip(),\n",
    "            \"input\": \"\",\n",
    "            \"output\": item[\"answer\"].strip()\n",
    "        })\n",
    "\n",
    "with open(\"../data/legal_qa.json\", \"w\", encoding=\"utf-8\") as f:\n",
    "    json.dump(sft_data, f, indent=2, ensure_ascii=False)"
   ]
  },
  {
   "cell_type": "code",
   "execution_count": 5,
   "id": "4833782c",
   "metadata": {},
   "outputs": [
    {
     "data": {
      "text/plain": [
       "14543"
      ]
     },
     "execution_count": 5,
     "metadata": {},
     "output_type": "execute_result"
    }
   ],
   "source": [
    "len(sft_data)"
   ]
  },
  {
   "cell_type": "code",
   "execution_count": null,
   "id": "42194ccf",
   "metadata": {},
   "outputs": [],
   "source": []
  },
  {
   "cell_type": "code",
   "execution_count": null,
   "id": "cd1bec4d",
   "metadata": {},
   "outputs": [],
   "source": []
  },
  {
   "cell_type": "code",
   "execution_count": null,
   "id": "7cdaaac4",
   "metadata": {},
   "outputs": [],
   "source": []
  },
  {
   "cell_type": "code",
   "execution_count": null,
   "id": "9c66ddd9",
   "metadata": {},
   "outputs": [],
   "source": []
  },
  {
   "cell_type": "code",
   "execution_count": null,
   "id": "1918e2af",
   "metadata": {},
   "outputs": [],
   "source": []
  },
  {
   "cell_type": "code",
   "execution_count": null,
   "id": "0bab659c",
   "metadata": {},
   "outputs": [],
   "source": []
  },
  {
   "cell_type": "code",
   "execution_count": null,
   "id": "18f5062d",
   "metadata": {},
   "outputs": [],
   "source": []
  }
 ],
 "metadata": {
  "kernelspec": {
   "display_name": "venv",
   "language": "python",
   "name": "python3"
  },
  "language_info": {
   "codemirror_mode": {
    "name": "ipython",
    "version": 3
   },
   "file_extension": ".py",
   "mimetype": "text/x-python",
   "name": "python",
   "nbconvert_exporter": "python",
   "pygments_lexer": "ipython3",
   "version": "3.12.7"
  }
 },
 "nbformat": 4,
 "nbformat_minor": 5
}
